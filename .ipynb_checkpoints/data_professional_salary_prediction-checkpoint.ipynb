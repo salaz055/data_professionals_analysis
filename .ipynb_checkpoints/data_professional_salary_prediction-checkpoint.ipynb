{
 "cells": [
  {
   "cell_type": "markdown",
   "id": "8b0555e8",
   "metadata": {},
   "source": [
    "# Data Professional Survey Analysis and Salary Prediction"
   ]
  },
  {
   "cell_type": "markdown",
   "id": "c3e651c8",
   "metadata": {},
   "source": [
    "## Initial Imports and Data Validation/Cleaning"
   ]
  },
  {
   "cell_type": "code",
   "execution_count": 1,
   "id": "37301cf5",
   "metadata": {},
   "outputs": [
    {
     "name": "stdout",
     "output_type": "stream",
     "text": [
      "(607, 12) Index(['Unnamed: 0', 'work_year', 'experience_level', 'employment_type',\n",
      "       'job_title', 'salary', 'salary_currency', 'salary_in_usd',\n",
      "       'employee_residence', 'remote_ratio', 'company_location',\n",
      "       'company_size'],\n",
      "      dtype='object')\n"
     ]
    }
   ],
   "source": [
    "import pandas as pd\n",
    "import seaborn as sns\n",
    "import numpy as np\n",
    "import matplotlib.pyplot as plt\n",
    "\n",
    "df = pd.read_csv('ds_salaries.csv')\n",
    "print(df.shape , df.columns)"
   ]
  },
  {
   "cell_type": "code",
   "execution_count": 2,
   "id": "4a25c961",
   "metadata": {},
   "outputs": [],
   "source": [
    "# Dropping first column\n",
    "df.drop('Unnamed: 0' , axis = 1 , inplace = True)"
   ]
  },
  {
   "cell_type": "markdown",
   "id": "fa7a2b9f",
   "metadata": {},
   "source": [
    "### Remote Ratio"
   ]
  },
  {
   "cell_type": "code",
   "execution_count": 3,
   "id": "89c0ea11",
   "metadata": {},
   "outputs": [
    {
     "data": {
      "text/plain": [
       "100    381\n",
       "0      127\n",
       "50      99\n",
       "Name: remote_ratio, dtype: int64"
      ]
     },
     "execution_count": 3,
     "metadata": {},
     "output_type": "execute_result"
    }
   ],
   "source": [
    "df['remote_ratio'].value_counts()"
   ]
  },
  {
   "cell_type": "markdown",
   "id": "19731e09",
   "metadata": {},
   "source": [
    "Mapping these values to categories will make them easier for me to work with and more interpretable"
   ]
  },
  {
   "cell_type": "code",
   "execution_count": 4,
   "id": "6842e05a",
   "metadata": {},
   "outputs": [],
   "source": [
    "remote_ratio_mapper = {\n",
    "                    100 : 'Fully Remote',\n",
    "                    50 : 'Partially Remote',\n",
    "                    0 : 'Not Remote'    \n",
    "}"
   ]
  },
  {
   "cell_type": "code",
   "execution_count": 5,
   "id": "238342cb",
   "metadata": {},
   "outputs": [
    {
     "data": {
      "text/plain": [
       "Fully Remote        381\n",
       "Not Remote          127\n",
       "Partially Remote     99\n",
       "Name: remote, dtype: int64"
      ]
     },
     "execution_count": 5,
     "metadata": {},
     "output_type": "execute_result"
    }
   ],
   "source": [
    "df['remote'] = df['remote_ratio'].map(remote_ratio_mapper)\n",
    "df['remote'].value_counts()"
   ]
  },
  {
   "cell_type": "code",
   "execution_count": 6,
   "id": "86b68f6e",
   "metadata": {},
   "outputs": [],
   "source": [
    "# Dropping the old remote ratio column\n",
    "df.drop('remote_ratio' , axis = 1 , inplace = True)"
   ]
  },
  {
   "cell_type": "markdown",
   "id": "d7eb8cd5",
   "metadata": {},
   "source": [
    "### Job Title"
   ]
  },
  {
   "cell_type": "code",
   "execution_count": 7,
   "id": "1aed2fd5",
   "metadata": {},
   "outputs": [
    {
     "data": {
      "text/plain": [
       "50"
      ]
     },
     "execution_count": 7,
     "metadata": {},
     "output_type": "execute_result"
    }
   ],
   "source": [
    "len(df.job_title.value_counts())"
   ]
  },
  {
   "cell_type": "markdown",
   "id": "8a3364ea",
   "metadata": {},
   "source": [
    "As expected there is high cardinality in job title. To help combat this, I'll group similar jobs into larger groups."
   ]
  },
  {
   "cell_type": "code",
   "execution_count": 8,
   "id": "39cd8105",
   "metadata": {},
   "outputs": [],
   "source": [
    "data_analyst_roles = ['Data Analyst' , 'BI Data Analyst' , 'Business Data Analyst' ,\n",
    "                      'Data Analytics Engineer' , 'Lead Data Analyst' , 'Principal Data Analyst' ,\n",
    "                     'Product Data Analyst' , 'Data Specialist' , 'Finance Data Analyst', \n",
    "                     'Marketing Data Analyst', 'Financial Data Analyst' , 'Head of Data' , 'Analytics Engineer' , 'Data Analytics Manager',\n",
    "                     'Data Analytics Lead']\n",
    "\n",
    "data_scientist_roles = ['Data Scientist' , 'Data Science Manager' , 'Machine Learning Scientist' , \n",
    "                       'Data Science Consultant' , 'Director of Data Science' , 'Head of Data Science' , \n",
    "                       'Applied Data Scientist' , 'Machine Learning Developer',  'Applied Machine Learning Scientist',\n",
    "                       'Lead Data Scientist' , 'Computer Vision Software Engineer' , 'Data Science Engineer' ,\n",
    "                       'Head of Machine Learning' , 'Principal Data Scientist' , '3D Computer Vision Researcher' , 'Staff Data Scientist' , 'Machine Learning Manager']\n",
    "\n",
    "data_engineer_roles = ['Data Engineer' , 'Machine Learning Engineer' , 'Data Architect' ,'Big Data Engineer' ,\n",
    "                      'Computer Vision Engineer' , 'ML Engineer' , 'Lead Data Engineer' , 'Data Engineering Manager' ,\n",
    "                      'Machine Learning Infrastructure Engineer' ,'ETL Developer' , 'Principal Data Engineer',\n",
    "                       'Director of Data Engineering', 'Cloud Data Engineer', 'NLP Engineer' , 'Lead Machine Learning Engineer',\n",
    "                      'Big Data Architect']\n",
    "\n",
    "research_roles = ['Research Scientist' , 'AI Scientist']"
   ]
  },
  {
   "cell_type": "code",
   "execution_count": 9,
   "id": "e52b8b93",
   "metadata": {},
   "outputs": [],
   "source": [
    "def clean_job_titles(title):\n",
    "    if title in data_analyst_roles:\n",
    "        return 'Data Analyst'\n",
    "    \n",
    "    elif title in data_scientist_roles:\n",
    "        return 'Data Scientist'\n",
    "    \n",
    "    elif title in data_engineer_roles:\n",
    "        return 'Data Engineer'\n",
    "    \n",
    "    elif title in research_roles:\n",
    "        return 'Research Scientist'\n",
    "    \n",
    "    else:\n",
    "        return title\n"
   ]
  },
  {
   "cell_type": "code",
   "execution_count": 10,
   "id": "437c6c93",
   "metadata": {
    "scrolled": true
   },
   "outputs": [
    {
     "data": {
      "text/plain": [
       "Data Engineer         230\n",
       "Data Scientist        213\n",
       "Data Analyst          141\n",
       "Research Scientist     23\n",
       "Name: job_title_cleaned, dtype: int64"
      ]
     },
     "execution_count": 10,
     "metadata": {},
     "output_type": "execute_result"
    }
   ],
   "source": [
    "df['job_title_cleaned'] = df['job_title'].apply(clean_job_titles)\n",
    "df['job_title_cleaned'].value_counts()"
   ]
  },
  {
   "cell_type": "markdown",
   "id": "45a1a7b5",
   "metadata": {},
   "source": [
    "### Employment Type"
   ]
  },
  {
   "cell_type": "code",
   "execution_count": 11,
   "id": "3ef4a12a",
   "metadata": {},
   "outputs": [
    {
     "data": {
      "text/plain": [
       "FT    588\n",
       "PT     10\n",
       "CT      5\n",
       "FL      4\n",
       "Name: employment_type, dtype: int64"
      ]
     },
     "execution_count": 11,
     "metadata": {},
     "output_type": "execute_result"
    }
   ],
   "source": [
    "df.employment_type.value_counts()"
   ]
  },
  {
   "cell_type": "markdown",
   "id": "ce5e72a9",
   "metadata": {},
   "source": [
    "I'll be mapping FT , PT , FL , and CT to Full-Time , Part-Time , Freelance , and Contract"
   ]
  },
  {
   "cell_type": "code",
   "execution_count": 12,
   "id": "d88f9102",
   "metadata": {},
   "outputs": [
    {
     "data": {
      "text/plain": [
       "Full-Time    588\n",
       "Part-Time     10\n",
       "Contract       5\n",
       "Freelance      4\n",
       "Name: employment_type, dtype: int64"
      ]
     },
     "execution_count": 12,
     "metadata": {},
     "output_type": "execute_result"
    }
   ],
   "source": [
    "employment_mapper = {\n",
    "    'FT' : 'Full-Time',\n",
    "    'PT' : 'Part-Time', \n",
    "    'CT' : 'Contract',\n",
    "    'FL' : 'Freelance'\n",
    "}\n",
    "\n",
    "df['employment_type'] = df['employment_type'].map(employment_mapper)\n",
    "df['employment_type'].value_counts()"
   ]
  },
  {
   "cell_type": "markdown",
   "id": "26872711",
   "metadata": {},
   "source": [
    "### Country Variables"
   ]
  },
  {
   "cell_type": "code",
   "execution_count": 13,
   "id": "5c555751",
   "metadata": {},
   "outputs": [
    {
     "name": "stdout",
     "output_type": "stream",
     "text": [
      "57\n",
      "50\n"
     ]
    }
   ],
   "source": [
    "print(df.employee_residence.nunique())\n",
    "print(df.company_location.nunique())"
   ]
  },
  {
   "cell_type": "markdown",
   "id": "5880c4fc",
   "metadata": {},
   "source": [
    "I'll use the pycountry package to aggregate our countries in the 'company_location' and 'employee_residence' columns into continents for a higher level analysis."
   ]
  },
  {
   "cell_type": "code",
   "execution_count": 14,
   "id": "6363c134",
   "metadata": {},
   "outputs": [],
   "source": [
    "import pycountry_convert as pc\n",
    "\n",
    "def country_to_continent(country_alpha2):\n",
    "    country_continent_code = pc.country_alpha2_to_continent_code(country_alpha2)\n",
    "    country_continent_name = pc.convert_continent_code_to_continent_name(country_continent_code)\n",
    "    return country_continent_name\n"
   ]
  },
  {
   "cell_type": "code",
   "execution_count": 15,
   "id": "c1806a7d",
   "metadata": {},
   "outputs": [
    {
     "data": {
      "text/plain": [
       "North America    389\n",
       "Europe           157\n",
       "Asia              47\n",
       "Oceania            5\n",
       "South America      5\n",
       "Africa             4\n",
       "Name: company_continent, dtype: int64"
      ]
     },
     "execution_count": 15,
     "metadata": {},
     "output_type": "execute_result"
    }
   ],
   "source": [
    "df['company_continent'] = df['company_location'].apply(country_to_continent)\n",
    "df['company_continent'].value_counts()"
   ]
  },
  {
   "cell_type": "code",
   "execution_count": 16,
   "id": "0784a548",
   "metadata": {},
   "outputs": [
    {
     "data": {
      "text/plain": [
       "North America    365\n",
       "Europe           163\n",
       "Asia              60\n",
       "South America     10\n",
       "Africa             5\n",
       "Oceania            4\n",
       "Name: employee_continent, dtype: int64"
      ]
     },
     "execution_count": 16,
     "metadata": {},
     "output_type": "execute_result"
    }
   ],
   "source": [
    "df['employee_continent'] = df['employee_residence'].apply(country_to_continent)\n",
    "df['employee_continent'].value_counts()"
   ]
  },
  {
   "cell_type": "markdown",
   "id": "8d23997a",
   "metadata": {},
   "source": [
    "### Salary"
   ]
  },
  {
   "cell_type": "code",
   "execution_count": 17,
   "id": "f295ba7d",
   "metadata": {},
   "outputs": [],
   "source": [
    "# Dropping salary and salary currency columns as we will be focusing on salary_usd\n",
    "df.drop(['salary', 'salary_currency'] , axis = 1 , inplace = True)"
   ]
  },
  {
   "cell_type": "code",
   "execution_count": 26,
   "id": "14b98485",
   "metadata": {},
   "outputs": [
    {
     "name": "stdout",
     "output_type": "stream",
     "text": [
      "(318, 12)\n"
     ]
    },
    {
     "data": {
      "image/png": "[encoded data removed]",
      "text/plain": [
       "<Figure size 720x360 with 1 Axes>"
      ]
     },
     "metadata": {
      "needs_background": "light"
     },
     "output_type": "display_data"
    }
   ],
   "source": [
    "plt.figure(figsize = (10 , 5))\n",
    "sns.boxplot(x = 'salary_in_usd' , data = df)\n",
    "print(df_2022.shape)"
   ]
  },
  {
   "cell_type": "markdown",
   "id": "7947cadb",
   "metadata": {},
   "source": [
    "There are some outliers with those making more than $300,000 per year. I'll drop these from the dataset"
   ]
  },
  {
   "cell_type": "code",
   "execution_count": 27,
   "id": "3edabc11",
   "metadata": {},
   "outputs": [
    {
     "name": "stdout",
     "output_type": "stream",
     "text": [
      "Original dataframe shape: (607, 12)\n",
      "New dataframe shape: (597, 12)\n"
     ]
    }
   ],
   "source": [
    "print(f'Original dataframe shape: {df.shape}')\n",
    "df = df[df['salary_in_usd'] < 300000]\n",
    "print(f'New dataframe shape: {df.shape}')"
   ]
  },
  {
   "cell_type": "markdown",
   "id": "9fe05591",
   "metadata": {},
   "source": [
    "### Other Variables"
   ]
  },
  {
   "cell_type": "code",
   "execution_count": 28,
   "id": "ff766710",
   "metadata": {},
   "outputs": [
    {
     "data": {
      "text/plain": [
       "2022    315\n",
       "2021    213\n",
       "2020     69\n",
       "Name: work_year, dtype: int64"
      ]
     },
     "execution_count": 28,
     "metadata": {},
     "output_type": "execute_result"
    }
   ],
   "source": [
    "# Examint work year variable\n",
    "df.work_year.value_counts()"
   ]
  },
  {
   "cell_type": "markdown",
   "id": "c736e013",
   "metadata": {},
   "source": [
    "work_year covers 3 years from 2020-2022. To build our models at the end we will only be using 2022 data."
   ]
  },
  {
   "cell_type": "code",
   "execution_count": 29,
   "id": "af6dcd4c",
   "metadata": {},
   "outputs": [
    {
     "data": {
      "text/plain": [
       "Senior-level       277\n",
       "Mid-level          210\n",
       "Entry-level         88\n",
       "Executive-level     22\n",
       "Name: experience_level, dtype: int64"
      ]
     },
     "execution_count": 29,
     "metadata": {},
     "output_type": "execute_result"
    }
   ],
   "source": [
    "experience_level_mapper = {'SE' : 'Senior-level',\n",
    "                          'EN' : 'Entry-level',\n",
    "                          'EX' : 'Executive-level' , \n",
    "                          'MI' : 'Mid-level'}\n",
    "\n",
    "df['experience_level'] = df['experience_level'].map(experience_level_mapper)\n",
    "df['experience_level'].value_counts()"
   ]
  },
  {
   "cell_type": "markdown",
   "id": "eff1f816",
   "metadata": {},
   "source": [
    "I mapped experience level abbreviations to more interpretable values"
   ]
  },
  {
   "cell_type": "code",
   "execution_count": 30,
   "id": "47c8bcf8",
   "metadata": {},
   "outputs": [
    {
     "data": {
      "text/plain": [
       "Medium    324\n",
       "Large     191\n",
       "Small      82\n",
       "Name: company_size, dtype: int64"
      ]
     },
     "execution_count": 30,
     "metadata": {},
     "output_type": "execute_result"
    }
   ],
   "source": [
    "company_size_mapper = {'S' : 'Small',\n",
    "                      'M' : 'Medium' , \n",
    "                      'L' : 'Large'}\n",
    "\n",
    "df['company_size'] = df['company_size'].map(company_size_mapper)\n",
    "df['company_size'].value_counts()"
   ]
  },
  {
   "cell_type": "markdown",
   "id": "d1545b0c",
   "metadata": {},
   "source": [
    "I mapped company size abbreviations to more interpretable values"
   ]
  },
  {
   "cell_type": "markdown",
   "id": "d6ff4a58",
   "metadata": {},
   "source": [
    "### Creating the 2022 subset\n",
    "\n",
    "I'm only going to be using 2022 data to create a model for salary prediction."
   ]
  },
  {
   "cell_type": "code",
   "execution_count": 31,
   "id": "bf9e3aad",
   "metadata": {},
   "outputs": [
    {
     "data": {
      "text/plain": [
       "(315, 12)"
      ]
     },
     "execution_count": 31,
     "metadata": {},
     "output_type": "execute_result"
    }
   ],
   "source": [
    "df_2022 = df[df['work_year'] == 2022]\n",
    "\n",
    "# Confirming the shape is correct\n",
    "df_2022.shape"
   ]
  },
  {
   "cell_type": "markdown",
   "id": "843e67ee",
   "metadata": {},
   "source": [
    "## Data Exploration (Salary over time)"
   ]
  },
  {
   "cell_type": "code",
   "execution_count": 25,
   "id": "924c0ba9",
   "metadata": {},
   "outputs": [
    {
     "data": {
      "text/plain": [
       "''"
      ]
     },
     "execution_count": 25,
     "metadata": {},
     "output_type": "execute_result"
    },
    {
     "data": {
      "image/png": "[encoded data removed]",
      "text/plain": [
       "<Figure size 1296x504 with 2 Axes>"
      ]
     },
     "metadata": {
      "needs_background": "light"
     },
     "output_type": "display_data"
    }
   ],
   "source": [
    "# Creating the figure and 2 axes\n",
    "fig , ax = plt.subplots(1 , 2 , figsize = (18 , 7))\n",
    "\n",
    "# Line plot for average salary of ALL data professionals over time\n",
    "df.groupby('work_year')['salary_in_usd'].mean().plot(ax = ax[0]).set_xticks([2020 , 2021 , 2022])\n",
    "ax[0].set_title('Average Salary Over Time for Data Professionals' , size = 15)\n",
    "ax[0].set_xlabel('')\n",
    "ax[0].set_ylabel('Salary')\n",
    "\n",
    "# Line plot for salary of data professionals over time colored by Job Title/Category\n",
    "grouped_jobs = df.groupby(['work_year' , 'job_title_cleaned'])['salary_in_usd'].mean().reset_index()\n",
    "sns.lineplot(x = 'work_year' , y = 'salary_in_usd' , data = grouped_jobs , hue = 'job_title_cleaned'  , ax = ax[1])\n",
    "ax[1].set_xticks([2020 , 2021 , 2022])\n",
    "ax[1].set_title('Average Salary for Data Professionsals by Job Title' , size = 15)\n",
    "ax[1].set_ylabel('')\n",
    "ax[1].set_xlabel('')\n",
    ";\n"
   ]
  },
  {
   "cell_type": "markdown",
   "id": "d5381dd9",
   "metadata": {},
   "source": [
    "Average salary for the data professionals has increased every year with a significant bump in 2022.\n",
    "\n",
    "The average salary has increased across all job types/titles with Data Scientists jumping from the 2nd lowest paid in 2021 to the highest paid in 2022. Analyst salaries increased from 2021 to 2022 but not at the same rate as other data professionals.\n",
    "\n",
    "It's clear that the field is growing rapidly!"
   ]
  },
  {
   "cell_type": "markdown",
   "id": "91f3b4ec",
   "metadata": {},
   "source": [
    "## Data Exploration (2022 data)"
   ]
  },
  {
   "cell_type": "markdown",
   "id": "407c4496",
   "metadata": {},
   "source": [
    "### Employee/Company Locations"
   ]
  },
  {
   "cell_type": "code",
   "execution_count": 26,
   "id": "1bac5f18",
   "metadata": {},
   "outputs": [
    {
     "data": {
      "text/plain": [
       "''"
      ]
     },
     "execution_count": 26,
     "metadata": {},
     "output_type": "execute_result"
    },
    {
     "data": {
      "image/png": "[encoded data removed]",
      "text/plain": [
       "<Figure size 1080x504 with 2 Axes>"
      ]
     },
     "metadata": {
      "needs_background": "light"
     },
     "output_type": "display_data"
    }
   ],
   "source": [
    "# Creating the figure and 2 axes\n",
    "fig , ax = plt.subplots(1 , 2 , figsize = (15 , 7))\n",
    "\n",
    "# Count plot for Continent locations of companies\n",
    "sns.countplot(x = 'company_continent' , color = '#7FB069' , data = df_2022 , order = df_2022['company_continent'].value_counts().index , ax = ax[0])\n",
    "ax[0].set_title('Distribuition of Company Continents 2022' , size = 15)\n",
    "ax[0].set_xlabel('')\n",
    "ax[0].set_ylabel('')\n",
    "\n",
    "# Count plot for Continent locations of employees\n",
    "sns.countplot(x = 'employee_continent' , color = '#7FB069' , data = df_2022 , order = df_2022['employee_continent'].value_counts().index ,ax = ax[1])\n",
    "ax[1].set_title('Distribuition of Employee Continents 2022' , size = 15)\n",
    "ax[1].set_xlabel('')\n",
    "ax[1].set_ylabel('')\n",
    ";"
   ]
  },
  {
   "cell_type": "markdown",
   "id": "700fcbb6",
   "metadata": {},
   "source": [
    "As expected the two distributions don't vary much. Employees tend to be located close to or at least in the same continent as their employer. \n",
    "\n",
    "Most companys/employees in this survey are from North America or Europe while South America , Asia , Africa , and Oceania represent a smaller segment of the dataset. Because this data was collected through a Kaggle Survey, it's not surprising to see that North America represents a large majority of the dataset.\n",
    "\n",
    "In order to avoid feeding the model duplicate information, I will only be including one of these columns and dropping rows where the employee does not live on the same continent as the company."
   ]
  },
  {
   "cell_type": "markdown",
   "id": "e3361e07",
   "metadata": {},
   "source": [
    "### Remote Ratio"
   ]
  },
  {
   "cell_type": "code",
   "execution_count": 27,
   "id": "a9334409",
   "metadata": {},
   "outputs": [
    {
     "data": {
      "text/plain": [
       "''"
      ]
     },
     "execution_count": 27,
     "metadata": {},
     "output_type": "execute_result"
    },
    {
     "data": {
      "image/png": "[encoded data removed]",
      "text/plain": [
       "<Figure size 1440x504 with 2 Axes>"
      ]
     },
     "metadata": {
      "needs_background": "light"
     },
     "output_type": "display_data"
    }
   ],
   "source": [
    "# Creating the figure and 2 axes\n",
    "fig , ax = plt.subplots(1 , 2 , figsize = (20, 7))\n",
    "\n",
    "# Count plot for Remote Status\n",
    "sns.countplot(x = 'remote' , color = '#7FB069' , data = df_2022 , order = df_2022['remote'].value_counts().index  ,ax = ax[0])\n",
    "ax[0].set_title('Distribuition of Remote Jobs 2022' , size = 15)\n",
    "ax[0].set_xlabel('')\n",
    "ax[0].set_ylabel('Count')\n",
    "\n",
    "\n",
    "# Boxplots for salary across remote status\n",
    "sns.boxplot(x = 'salary_in_usd' , y = 'remote' , data = df_2022 , ax = ax[1])\n",
    "ax[1].set_title('Salary Distribuition by Remote 2022' , size = 15)\n",
    "ax[1].set_xlabel('Salary in USD')\n",
    "ax[1].set_ylabel('')\n",
    ";"
   ]
  },
  {
   "cell_type": "markdown",
   "id": "c5ed1c2c",
   "metadata": {},
   "source": [
    "Most of the employees in the dataset work fully remote. The median for Fully Remote workers is higher than that of Non-remote and Partially Remote workers."
   ]
  },
  {
   "cell_type": "markdown",
   "id": "98df930c",
   "metadata": {},
   "source": [
    "### Experience Level"
   ]
  },
  {
   "cell_type": "code",
   "execution_count": 28,
   "id": "d88a80d2",
   "metadata": {},
   "outputs": [
    {
     "data": {
      "text/plain": [
       "''"
      ]
     },
     "execution_count": 28,
     "metadata": {},
     "output_type": "execute_result"
    },
    {
     "data": {
      "image/png": "[encoded data removed]",
      "text/plain": [
       "<Figure size 1440x504 with 2 Axes>"
      ]
     },
     "metadata": {
      "needs_background": "light"
     },
     "output_type": "display_data"
    }
   ],
   "source": [
    "# Creating the figure and 2 axes\n",
    "fig , ax = plt.subplots(1 , 2 , figsize = (20, 7))\n",
    "\n",
    "# Count plot for Experience Level\n",
    "sns.countplot(x = 'experience_level' , color = '#7FB069' , data = df_2022 , order = df_2022['experience_level'].value_counts().index  ,ax = ax[0])\n",
    "ax[0].set_title('Distribuition of Experience Level 2022' , size = 15)\n",
    "ax[0].set_xlabel('')\n",
    "ax[0].set_ylabel('Count')\n",
    "\n",
    "# Boxplots for salary across Experience Level\n",
    "sns.boxplot(x = 'salary_in_usd' , y = 'experience_level' , data = df_2022 , ax = ax[1])\n",
    "ax[1].set_title('Salary Distribuition by Experience 2022' , size = 15)\n",
    "ax[1].set_xlabel('Salary in USD')\n",
    "ax[1].set_ylabel('')\n",
    ";"
   ]
  },
  {
   "cell_type": "markdown",
   "id": "979b27d1",
   "metadata": {},
   "source": [
    "Senior and Mid-level employees make up a large portion of the dataset. As expected, salary distributions for different experience levels vary with Senior-level and Executives having the highest salaries. The distributions for Mid-level and Entry-level employees are lower and right-skewed."
   ]
  },
  {
   "cell_type": "markdown",
   "id": "e4954661",
   "metadata": {},
   "source": [
    "### Employment Type"
   ]
  },
  {
   "cell_type": "code",
   "execution_count": 29,
   "id": "f3bc531f",
   "metadata": {},
   "outputs": [
    {
     "data": {
      "text/plain": [
       "''"
      ]
     },
     "execution_count": 29,
     "metadata": {},
     "output_type": "execute_result"
    },
    {
     "data": {
      "image/png": "[encoded data removed]",
      "text/plain": [
       "<Figure size 1440x504 with 2 Axes>"
      ]
     },
     "metadata": {
      "needs_background": "light"
     },
     "output_type": "display_data"
    }
   ],
   "source": [
    "# Creating the figure and 2 axes\n",
    "fig , ax = plt.subplots(1 , 2 , figsize = (20, 7))\n",
    "\n",
    "# Count plot for Employment Type\n",
    "sns.countplot(x = 'employment_type' , color = '#7FB069' , data = df_2022 , order = df_2022['employment_type'].value_counts().index  ,ax = ax[0])\n",
    "ax[0].set_title('Distribuition of Employment Type 2022' , size = 15)\n",
    "ax[0].set_xlabel('')\n",
    "ax[0].set_ylabel('Count')\n",
    "\n",
    "# Boxplots for salary across Employment Type\n",
    "sns.boxplot(x = 'salary_in_usd' , y = 'employment_type' , data = df_2022 , ax = ax[1])\n",
    "ax[1].set_title('Salary Distribuition by Employment Type 2022' , size = 15)\n",
    "ax[1].set_xlabel('Salary in USD')\n",
    "ax[1].set_ylabel('')\n",
    ";"
   ]
  },
  {
   "cell_type": "markdown",
   "id": "871210c4",
   "metadata": {},
   "source": [
    "As expected, most of the participants in the survey are Full-Time employees. I will limit the model to only look at Full-Time Employees for this project."
   ]
  },
  {
   "cell_type": "markdown",
   "id": "31ce5365",
   "metadata": {},
   "source": [
    "### Company Size"
   ]
  },
  {
   "cell_type": "code",
   "execution_count": 30,
   "id": "d9f29a8e",
   "metadata": {},
   "outputs": [
    {
     "data": {
      "text/plain": [
       "''"
      ]
     },
     "execution_count": 30,
     "metadata": {},
     "output_type": "execute_result"
    },
    {
     "data": {
      "image/png": "[encoded data removed]",
      "text/plain": [
       "<Figure size 1440x504 with 2 Axes>"
      ]
     },
     "metadata": {
      "needs_background": "light"
     },
     "output_type": "display_data"
    }
   ],
   "source": [
    "# Creating the figure and 2 axes\n",
    "fig , ax = plt.subplots(1 , 2 , figsize = (20, 7))\n",
    "\n",
    "# Count plot for Company Size\n",
    "sns.countplot(x = 'company_size' , color = '#7FB069' , data = df_2022 , order = df_2022['company_size'].value_counts().index  ,ax = ax[0])\n",
    "ax[0].set_title('Distribuition of Company Size 2022' , size = 15)\n",
    "ax[0].set_xlabel('')\n",
    "ax[0].set_ylabel('Count')\n",
    "\n",
    "# Boxplots for salary across Company Size\n",
    "sns.boxplot(x = 'salary_in_usd' , y = 'company_size' , data = df_2022 , ax = ax[1])\n",
    "ax[1].set_title('Salary Distribuition by Company Size 2022' , size = 15)\n",
    "ax[1].set_xlabel('Salary in USD')\n",
    "ax[1].set_ylabel('')\n",
    ";"
   ]
  },
  {
   "cell_type": "markdown",
   "id": "ba8df8c8",
   "metadata": {},
   "source": [
    "### Job Title"
   ]
  },
  {
   "cell_type": "code",
   "execution_count": 31,
   "id": "0333c02a",
   "metadata": {},
   "outputs": [
    {
     "data": {
      "text/plain": [
       "''"
      ]
     },
     "execution_count": 31,
     "metadata": {},
     "output_type": "execute_result"
    },
    {
     "data": {
      "image/png": "[encoded data removed]",
      "text/plain": [
       "<Figure size 1440x504 with 2 Axes>"
      ]
     },
     "metadata": {
      "needs_background": "light"
     },
     "output_type": "display_data"
    },
    {
     "data": {
      "text/plain": [
       "<Figure size 720x504 with 0 Axes>"
      ]
     },
     "metadata": {},
     "output_type": "display_data"
    }
   ],
   "source": [
    "# Creating the figure and 2 axes\n",
    "fig , ax = plt.subplots(1 , 2 , figsize = (20, 7))\n",
    "\n",
    "# Count plot for Job Type\n",
    "plt.figure(figsize = (10, 7))\n",
    "sns.countplot(x = 'job_title_cleaned' , color = '#7FB069' , data = df_2022 , order = df_2022['job_title_cleaned'].value_counts().index  ,ax = ax[0])\n",
    "ax[0].set_title('Distribuition of Job Type 2022' , size = 15)\n",
    "ax[0].set_xlabel('')\n",
    "ax[0].set_ylabel('Count')\n",
    "\n",
    "# Boxplots for salary across Job Type\n",
    "sns.boxplot(x = 'salary_in_usd' , y = 'job_title_cleaned' , data = df_2022 , ax = ax[1])\n",
    "ax[1].set_title('Salary Distribuition by Job Type 2022' , size = 15)\n",
    "ax[1].set_xlabel('Salary in USD')\n",
    "ax[1].set_ylabel('')\n",
    ";"
   ]
  },
  {
   "cell_type": "markdown",
   "id": "a4b9c0b0",
   "metadata": {},
   "source": [
    "Data Scientists have the highest median salary while Data Analyst's have the lowest. However, the range of salaries for most Job Types is large and indicates that there are other factors at play (Experience , Country , Company size)."
   ]
  },
  {
   "cell_type": "markdown",
   "id": "0da85f67",
   "metadata": {},
   "source": [
    "## Preparing for modeling"
   ]
  },
  {
   "cell_type": "code",
   "execution_count": 32,
   "id": "af042d17",
   "metadata": {},
   "outputs": [
    {
     "name": "stderr",
     "output_type": "stream",
     "text": [
      "C:\\Users\\salaz\\AppData\\Local\\Temp\\ipykernel_20984\\583954039.py:3: SettingWithCopyWarning: \n",
      "A value is trying to be set on a copy of a slice from a DataFrame\n",
      "\n",
      "See the caveats in the documentation: https://pandas.pydata.org/pandas-docs/stable/user_guide/indexing.html#returning-a-view-versus-a-copy\n",
      "  df_2022.drop('work_year' , axis = 1 , inplace = True)\n"
     ]
    }
   ],
   "source": [
    "# Dropping the work_year as it won't be useful to the model\n",
    "\n",
    "df_2022.drop('work_year' , axis = 1 , inplace = True)"
   ]
  },
  {
   "cell_type": "code",
   "execution_count": 33,
   "id": "56c2cf07",
   "metadata": {},
   "outputs": [
    {
     "data": {
      "text/plain": [
       "(315, 8)"
      ]
     },
     "execution_count": 33,
     "metadata": {},
     "output_type": "execute_result"
    }
   ],
   "source": [
    "# Segmenting to the relevant columns for modeling\n",
    "df_2022_modeling = df_2022[['experience_level', 'employment_type' , 'salary_in_usd' ,'company_size', 'remote' ,  'job_title_cleaned', 'company_continent', 'employee_continent']]\n",
    "df_2022_modeling.shape"
   ]
  },
  {
   "cell_type": "code",
   "execution_count": 34,
   "id": "a42c8878",
   "metadata": {},
   "outputs": [
    {
     "data": {
      "text/html": [
       "<div>\n",
       "<style scoped>\n",
       "    .dataframe tbody tr th:only-of-type {\n",
       "        vertical-align: middle;\n",
       "    }\n",
       "\n",
       "    .dataframe tbody tr th {\n",
       "        vertical-align: top;\n",
       "    }\n",
       "\n",
       "    .dataframe thead th {\n",
       "        text-align: right;\n",
       "    }\n",
       "</style>\n",
       "<table border=\"1\" class=\"dataframe\">\n",
       "  <thead>\n",
       "    <tr style=\"text-align: right;\">\n",
       "      <th></th>\n",
       "      <th>experience_level</th>\n",
       "      <th>employment_type</th>\n",
       "      <th>salary_in_usd</th>\n",
       "      <th>company_size</th>\n",
       "      <th>remote</th>\n",
       "      <th>job_title_cleaned</th>\n",
       "      <th>company_continent</th>\n",
       "      <th>employee_continent</th>\n",
       "    </tr>\n",
       "  </thead>\n",
       "  <tbody>\n",
       "    <tr>\n",
       "      <th>417</th>\n",
       "      <td>Senior-level</td>\n",
       "      <td>Full-Time</td>\n",
       "      <td>60000</td>\n",
       "      <td>Large</td>\n",
       "      <td>Fully Remote</td>\n",
       "      <td>Data Scientist</td>\n",
       "      <td>North America</td>\n",
       "      <td>South America</td>\n",
       "    </tr>\n",
       "    <tr>\n",
       "      <th>489</th>\n",
       "      <td>Entry-level</td>\n",
       "      <td>Contract</td>\n",
       "      <td>31875</td>\n",
       "      <td>Medium</td>\n",
       "      <td>Fully Remote</td>\n",
       "      <td>Data Scientist</td>\n",
       "      <td>Europe</td>\n",
       "      <td>Africa</td>\n",
       "    </tr>\n",
       "    <tr>\n",
       "      <th>490</th>\n",
       "      <td>Senior-level</td>\n",
       "      <td>Full-Time</td>\n",
       "      <td>200000</td>\n",
       "      <td>Medium</td>\n",
       "      <td>Fully Remote</td>\n",
       "      <td>Data Analyst</td>\n",
       "      <td>North America</td>\n",
       "      <td>Asia</td>\n",
       "    </tr>\n",
       "    <tr>\n",
       "      <th>494</th>\n",
       "      <td>Senior-level</td>\n",
       "      <td>Full-Time</td>\n",
       "      <td>100000</td>\n",
       "      <td>Medium</td>\n",
       "      <td>Fully Remote</td>\n",
       "      <td>Data Scientist</td>\n",
       "      <td>North America</td>\n",
       "      <td>South America</td>\n",
       "    </tr>\n",
       "    <tr>\n",
       "      <th>496</th>\n",
       "      <td>Entry-level</td>\n",
       "      <td>Full-Time</td>\n",
       "      <td>58035</td>\n",
       "      <td>Medium</td>\n",
       "      <td>Fully Remote</td>\n",
       "      <td>Data Engineer</td>\n",
       "      <td>Europe</td>\n",
       "      <td>Asia</td>\n",
       "    </tr>\n",
       "    <tr>\n",
       "      <th>506</th>\n",
       "      <td>Mid-level</td>\n",
       "      <td>Full-Time</td>\n",
       "      <td>75000</td>\n",
       "      <td>Large</td>\n",
       "      <td>Fully Remote</td>\n",
       "      <td>Data Scientist</td>\n",
       "      <td>North America</td>\n",
       "      <td>South America</td>\n",
       "    </tr>\n",
       "    <tr>\n",
       "      <th>515</th>\n",
       "      <td>Mid-level</td>\n",
       "      <td>Full-Time</td>\n",
       "      <td>48000</td>\n",
       "      <td>Small</td>\n",
       "      <td>Fully Remote</td>\n",
       "      <td>Data Scientist</td>\n",
       "      <td>North America</td>\n",
       "      <td>Europe</td>\n",
       "    </tr>\n",
       "    <tr>\n",
       "      <th>606</th>\n",
       "      <td>Mid-level</td>\n",
       "      <td>Full-Time</td>\n",
       "      <td>200000</td>\n",
       "      <td>Large</td>\n",
       "      <td>Fully Remote</td>\n",
       "      <td>Research Scientist</td>\n",
       "      <td>North America</td>\n",
       "      <td>Asia</td>\n",
       "    </tr>\n",
       "  </tbody>\n",
       "</table>\n",
       "</div>"
      ],
      "text/plain": [
       "    experience_level employment_type  salary_in_usd company_size  \\\n",
       "417     Senior-level       Full-Time          60000        Large   \n",
       "489      Entry-level        Contract          31875       Medium   \n",
       "490     Senior-level       Full-Time         200000       Medium   \n",
       "494     Senior-level       Full-Time         100000       Medium   \n",
       "496      Entry-level       Full-Time          58035       Medium   \n",
       "506        Mid-level       Full-Time          75000        Large   \n",
       "515        Mid-level       Full-Time          48000        Small   \n",
       "606        Mid-level       Full-Time         200000        Large   \n",
       "\n",
       "           remote   job_title_cleaned company_continent employee_continent  \n",
       "417  Fully Remote      Data Scientist     North America      South America  \n",
       "489  Fully Remote      Data Scientist            Europe             Africa  \n",
       "490  Fully Remote        Data Analyst     North America               Asia  \n",
       "494  Fully Remote      Data Scientist     North America      South America  \n",
       "496  Fully Remote       Data Engineer            Europe               Asia  \n",
       "506  Fully Remote      Data Scientist     North America      South America  \n",
       "515  Fully Remote      Data Scientist     North America             Europe  \n",
       "606  Fully Remote  Research Scientist     North America               Asia  "
      ]
     },
     "execution_count": 34,
     "metadata": {},
     "output_type": "execute_result"
    }
   ],
   "source": [
    "# Finding cases where company continent  is not the same as employee continent\n",
    "df_2022_modeling[df_2022_modeling['company_continent'] != df_2022_modeling['employee_continent']]"
   ]
  },
  {
   "cell_type": "markdown",
   "id": "2f8a6db6",
   "metadata": {},
   "source": [
    "There are 8 records where company continent is not the same as employee continent. \n",
    "\n",
    "I've decided to drop these records because I intend to represent 'company_continent' and 'employee_continent' with one column to keep the model from being fed duplicated information."
   ]
  },
  {
   "cell_type": "code",
   "execution_count": 35,
   "id": "89674e38",
   "metadata": {},
   "outputs": [
    {
     "data": {
      "text/plain": [
       "(307, 8)"
      ]
     },
     "execution_count": 35,
     "metadata": {},
     "output_type": "execute_result"
    }
   ],
   "source": [
    "# Limiting dataframe to records where employee continent = company continent\n",
    "df_2022_modeling = df_2022_modeling[df_2022_modeling['company_continent'] == df_2022_modeling['employee_continent']]\n",
    "df_2022_modeling.shape"
   ]
  },
  {
   "cell_type": "code",
   "execution_count": 36,
   "id": "cbb65977",
   "metadata": {},
   "outputs": [
    {
     "data": {
      "text/plain": [
       "(304, 8)"
      ]
     },
     "execution_count": 36,
     "metadata": {},
     "output_type": "execute_result"
    }
   ],
   "source": [
    "# Limiting the dataset to only Full Time employees\n",
    "df_2022_modeling = df_2022_modeling[df_2022_modeling['employment_type'] == 'Full-Time']\n",
    "df_2022_modeling.shape"
   ]
  },
  {
   "cell_type": "code",
   "execution_count": 37,
   "id": "0d57f1c7",
   "metadata": {},
   "outputs": [
    {
     "data": {
      "text/plain": [
       "(279, 8)"
      ]
     },
     "execution_count": 37,
     "metadata": {},
     "output_type": "execute_result"
    }
   ],
   "source": [
    "# The low salaries below 50000 dont seem to be accurate and are likely an error \n",
    "df_2022_modeling = df_2022_modeling[df_2022_modeling['salary_in_usd'] > 50000]\n",
    "df_2022_modeling.shape"
   ]
  },
  {
   "cell_type": "code",
   "execution_count": 38,
   "id": "a0452473",
   "metadata": {},
   "outputs": [
    {
     "data": {
      "text/plain": [
       "Index(['experience_level_Executive-level', 'experience_level_Mid-level',\n",
       "       'experience_level_Senior-level', 'company_size_Medium',\n",
       "       'company_size_Small', 'remote_Not Remote', 'remote_Partially Remote',\n",
       "       'job_title_cleaned_Data Engineer', 'job_title_cleaned_Data Scientist',\n",
       "       'job_title_cleaned_Research Scientist', 'company_continent_Europe',\n",
       "       'company_continent_North America', 'company_continent_Oceania'],\n",
       "      dtype='object')"
      ]
     },
     "execution_count": 38,
     "metadata": {},
     "output_type": "execute_result"
    }
   ],
   "source": [
    "# Setting X and y variables and Dummy-encoding the categorical variables\n",
    "y = df_2022_modeling['salary_in_usd']\n",
    "X = pd.get_dummies(df_2022_modeling.drop(['salary_in_usd' , 'employee_continent' , 'employment_type'] , axis = 1) , drop_first = True)\n",
    "X.columns"
   ]
  },
  {
   "cell_type": "markdown",
   "id": "d6717517",
   "metadata": {},
   "source": [
    "## Modeling"
   ]
  },
  {
   "cell_type": "markdown",
   "id": "392e64d9",
   "metadata": {},
   "source": [
    "### RandomForestRegressor"
   ]
  },
  {
   "cell_type": "markdown",
   "id": "0e06c8c6",
   "metadata": {},
   "source": [
    "#### ***Creating/Fitting the model***"
   ]
  },
  {
   "cell_type": "code",
   "execution_count": 119,
   "id": "d0f4138f",
   "metadata": {},
   "outputs": [
    {
     "data": {
      "text/plain": [
       "RandomizedSearchCV(cv=5, estimator=RandomForestRegressor(random_state=0),\n",
       "                   n_iter=150,\n",
       "                   param_distributions={'criterion': ['squared_error',\n",
       "                                                      'absolute_error',\n",
       "                                                      'poisson'],\n",
       "                                        'max_depth': array([ 5, 10, 15, 20]),\n",
       "                                        'max_features': ['auto', 'sqrt',\n",
       "                                                         'log2'],\n",
       "                                        'min_samples_leaf': array([ 2,  4,  6,  8, 10, 12, 14, 16, 18]),\n",
       "                                        'min_samples_split': array([ 2,  4,  6,  8, 10, 12, 14, 16, 18]),\n",
       "                                        'n_estimators': array([ 50, 100, 150, 200, 250, 300, 350, 400, 450])},\n",
       "                   scoring='neg_mean_squared_error')"
      ]
     },
     "execution_count": 119,
     "metadata": {},
     "output_type": "execute_result"
    }
   ],
   "source": [
    "from sklearn.ensemble import RandomForestRegressor\n",
    "from sklearn.model_selection import train_test_split\n",
    "from sklearn.metrics import mean_squared_error\n",
    "from sklearn.model_selection  import RandomizedSearchCV\n",
    "\n",
    "\n",
    "# Splitting the df into training and testing sets\n",
    "X_train, X_test, y_train, y_test = train_test_split(X,y, test_size=0.2)\n",
    "\n",
    "# Instantiating the model\n",
    "regr = RandomForestRegressor(random_state=0)\n",
    "\n",
    "# Setting the paramameters to search over\n",
    "param_grid = {\n",
    "    'n_estimators' : np.arange(50, 500 , 50),\n",
    "    'max_depth' : np.arange(5, 25 , 5),\n",
    "    'min_samples_split' : np.arange(2 , 20 , 2),\n",
    "    'min_samples_leaf' : np.arange(2, 20 , 2),\n",
    "    'max_features' : ['auto' , 'sqrt' , 'log2'],\n",
    "    'criterion' : ['squared_error', 'absolute_error', 'poisson']\n",
    "}\n",
    "\n",
    "\n",
    "# Create and fit the random search object\n",
    "reg = RandomizedSearchCV(regr, param_distributions = param_grid, cv = 5 , scoring= 'neg_mean_squared_error' , n_iter = 150)\n",
    "\n",
    "reg.fit(X_train , y_train)\n",
    "\n"
   ]
  },
  {
   "cell_type": "code",
   "execution_count": 120,
   "id": "83a1bb65",
   "metadata": {},
   "outputs": [
    {
     "data": {
      "text/plain": [
       "{'n_estimators': 200,\n",
       " 'min_samples_split': 16,\n",
       " 'min_samples_leaf': 14,\n",
       " 'max_features': 'auto',\n",
       " 'max_depth': 15,\n",
       " 'criterion': 'squared_error'}"
      ]
     },
     "execution_count": 120,
     "metadata": {},
     "output_type": "execute_result"
    }
   ],
   "source": [
    "reg.best_params_"
   ]
  },
  {
   "cell_type": "code",
   "execution_count": 121,
   "id": "59ff7b44",
   "metadata": {},
   "outputs": [],
   "source": [
    "# Create a random forest model using the best parameters\n",
    "random_forest = RandomForestRegressor(**reg.best_params_)"
   ]
  },
  {
   "cell_type": "code",
   "execution_count": 122,
   "id": "2c762d6a",
   "metadata": {},
   "outputs": [
    {
     "data": {
      "text/plain": [
       "RandomForestRegressor(max_depth=15, min_samples_leaf=14, min_samples_split=16,\n",
       "                      n_estimators=200)"
      ]
     },
     "execution_count": 122,
     "metadata": {},
     "output_type": "execute_result"
    }
   ],
   "source": [
    "random_forest.fit(X_train, y_train)"
   ]
  },
  {
   "cell_type": "markdown",
   "id": "bae186f9",
   "metadata": {},
   "source": [
    "#### ***Evaluation***"
   ]
  },
  {
   "cell_type": "code",
   "execution_count": 123,
   "id": "d08d833a",
   "metadata": {},
   "outputs": [
    {
     "data": {
      "text/plain": [
       "array([156765.31609247, 156765.31609247, 117203.72957381, 156765.31609247,\n",
       "       156765.31609247, 148020.39543685, 149497.09212415,  83966.29957718,\n",
       "        83966.29957718, 156765.31609247, 149914.27489287,  89971.0720767 ,\n",
       "       156765.31609247, 156765.31609247, 116501.0101483 , 153769.05739352,\n",
       "       158481.65730197, 153769.05739352, 156765.31609247, 156765.31609247,\n",
       "       117410.66111167, 153651.96183236,  85191.95076089,  88645.03546519,\n",
       "       117203.72957381, 117203.72957381,  83966.29957718, 117203.72957381,\n",
       "       117203.72957381, 153017.01118695, 116294.07861044, 116501.0101483 ,\n",
       "       156765.31609247, 149914.27489287, 117203.72957381, 156765.31609247,\n",
       "       156765.31609247, 149914.27489287, 158481.65730197, 117203.72957381,\n",
       "        89971.0720767 , 156587.77784595, 117203.72957381, 117410.66111167,\n",
       "       116501.0101483 , 156765.31609247,  83966.29957718, 116294.07861044,\n",
       "       158481.65730197, 153017.01118695, 149914.27489287, 148020.39543685,\n",
       "       117203.72957381, 117203.72957381,  87161.92174284, 146383.73786403])"
      ]
     },
     "execution_count": 123,
     "metadata": {},
     "output_type": "execute_result"
    }
   ],
   "source": [
    "# Generating predictions\n",
    "random_forest_preds = random_forest.predict(X_test)\n",
    "random_forest_preds"
   ]
  },
  {
   "cell_type": "code",
   "execution_count": 124,
   "id": "9d84b241",
   "metadata": {},
   "outputs": [
    {
     "data": {
      "text/plain": [
       "38298.7804400164"
      ]
     },
     "execution_count": 124,
     "metadata": {},
     "output_type": "execute_result"
    }
   ],
   "source": [
    "# RMSE\n",
    "random_forest_RMSE = np.sqrt(mean_squared_error(y_true = y_test , y_pred = random_forest_preds))\n",
    "random_forest_RMSE"
   ]
  },
  {
   "cell_type": "code",
   "execution_count": 125,
   "id": "0b39a16e",
   "metadata": {},
   "outputs": [
    {
     "data": {
      "text/plain": [
       "<AxesSubplot:xlabel='y_pred_rf_diff'>"
      ]
     },
     "execution_count": 125,
     "metadata": {},
     "output_type": "execute_result"
    },
    {
     "data": {
      "image/png": "[encoded data removed]",
      "text/plain": [
       "<Figure size 432x288 with 1 Axes>"
      ]
     },
     "metadata": {
      "needs_background": "light"
     },
     "output_type": "display_data"
    }
   ],
   "source": [
    "# Creating a Dataframe of true values and predictions for further analysis\n",
    "pred_df = pd.DataFrame()\n",
    "pred_df['y_test'] =  y_test\n",
    "pred_df['y_pred_rf'] =  random_forest_preds\n",
    "pred_df['y_pred_rf_diff'] = pred_df['y_pred_rf'] - pred_df['y_test']\n",
    "sns.boxplot(x = 'y_pred_rf_diff' , data = pred_df)"
   ]
  },
  {
   "cell_type": "code",
   "execution_count": 126,
   "id": "5f33fb15",
   "metadata": {},
   "outputs": [
    {
     "data": {
      "text/plain": [
       "8444.522833143317"
      ]
     },
     "execution_count": 126,
     "metadata": {},
     "output_type": "execute_result"
    }
   ],
   "source": [
    "pred_df['y_pred_rf_diff'].median()"
   ]
  },
  {
   "cell_type": "code",
   "execution_count": 127,
   "id": "c3efedba",
   "metadata": {
    "scrolled": true
   },
   "outputs": [
    {
     "data": {
      "text/plain": [
       "0.25   -15092.842924\n",
       "0.75    30949.239606\n",
       "Name: y_pred_rf_diff, dtype: float64"
      ]
     },
     "execution_count": 127,
     "metadata": {},
     "output_type": "execute_result"
    }
   ],
   "source": [
    "pred_df['y_pred_rf_diff'].quantile([0.25 , 0.75])"
   ]
  },
  {
   "cell_type": "markdown",
   "id": "875249f8",
   "metadata": {},
   "source": [
    "The random forest model has an RMSE of 39296. This seems high but salaries vary greatly in the field based on a number of factors that may have not been provided to the model. \n",
    "\n",
    "We can see that median difference between the predicted and the actual values is 8444 with the IQR ranging from -15092 below to 30949 above the true value"
   ]
  },
  {
   "cell_type": "markdown",
   "id": "5edc63db",
   "metadata": {},
   "source": [
    "#### ***Feature Importances***"
   ]
  },
  {
   "cell_type": "code",
   "execution_count": 128,
   "id": "b15044ce",
   "metadata": {},
   "outputs": [
    {
     "data": {
      "text/plain": [
       "<AxesSubplot:>"
      ]
     },
     "execution_count": 128,
     "metadata": {},
     "output_type": "execute_result"
    },
    {
     "data": {
      "image/png": "[encoded data removed]",
      "text/plain": [
       "<Figure size 432x288 with 1 Axes>"
      ]
     },
     "metadata": {
      "needs_background": "light"
     },
     "output_type": "display_data"
    }
   ],
   "source": [
    "feat_importances = pd.Series(random_forest.feature_importances_, index=X.columns)\n",
    "feat_importances.nlargest(10).plot(kind='barh')"
   ]
  },
  {
   "cell_type": "markdown",
   "id": "e2420ea2",
   "metadata": {},
   "source": [
    "It makes sense that the continent of the employee/country is an important feature for the model with experience level and job title also playing an important role in predicting salary. \n",
    "\n",
    "Remote status, Employment Type, and Company Size were not as useful for the model when predicting salary."
   ]
  },
  {
   "cell_type": "markdown",
   "id": "5042ef54",
   "metadata": {},
   "source": [
    "### KNNRegressor"
   ]
  },
  {
   "cell_type": "code",
   "execution_count": 133,
   "id": "419718f5",
   "metadata": {},
   "outputs": [
    {
     "data": {
      "text/plain": [
       "GridSearchCV(cv=5, estimator=KNeighborsRegressor(),\n",
       "             param_grid={'algorithm': ['auto', 'ball_tree', 'kd_tree', 'brute'],\n",
       "                         'n_neighbors': array([ 5, 10, 15, 20])},\n",
       "             scoring='neg_mean_squared_error')"
      ]
     },
     "execution_count": 133,
     "metadata": {},
     "output_type": "execute_result"
    }
   ],
   "source": [
    "from sklearn.neighbors import KNeighborsRegressor\n",
    "from sklearn.model_selection import GridSearchCV\n",
    "param_grid = {\n",
    "    'n_neighbors': np.arange(5,25,5),\n",
    "    'algorithm': ['auto', 'ball_tree', 'kd_tree', 'brute']   \n",
    "}\n",
    "\n",
    "knn = KNeighborsRegressor()\n",
    "reg_knn = GridSearchCV(knn , param_grid = param_grid , scoring = 'neg_mean_squared_error' , cv = 5)\n",
    "\n",
    "reg_knn.fit(X_train , y_train)"
   ]
  },
  {
   "cell_type": "code",
   "execution_count": 134,
   "id": "5a3c4769",
   "metadata": {},
   "outputs": [
    {
     "data": {
      "text/plain": [
       "{'algorithm': 'ball_tree', 'n_neighbors': 20}"
      ]
     },
     "execution_count": 134,
     "metadata": {},
     "output_type": "execute_result"
    }
   ],
   "source": [
    "reg_knn.best_params_"
   ]
  },
  {
   "cell_type": "code",
   "execution_count": 135,
   "id": "5de76d76",
   "metadata": {},
   "outputs": [
    {
     "data": {
      "text/plain": [
       "39676.68520005866"
      ]
     },
     "execution_count": 135,
     "metadata": {},
     "output_type": "execute_result"
    }
   ],
   "source": [
    "knn = KNeighborsRegressor(**reg_knn.best_params_)\n",
    "knn.fit(X_train , y_train)\n",
    "\n",
    "knn_preds = knn.predict(X_test)\n",
    "\n",
    "# RMSE\n",
    "knn_RMSE = np.sqrt(mean_squared_error(y_true = y_test , y_pred = knn_preds))\n",
    "knn_RMSE"
   ]
  },
  {
   "cell_type": "code",
   "execution_count": 136,
   "id": "7f331478",
   "metadata": {},
   "outputs": [],
   "source": [
    "pred_df['y_pred_knn'] = knn_preds"
   ]
  },
  {
   "cell_type": "code",
   "execution_count": 137,
   "id": "067b912f",
   "metadata": {},
   "outputs": [],
   "source": [
    "pred_df['y_pred_knn_diff'] = pred_df['y_pred_knn'] - pred_df['y_test']"
   ]
  },
  {
   "cell_type": "code",
   "execution_count": 138,
   "id": "4c85d44a",
   "metadata": {},
   "outputs": [
    {
     "data": {
      "text/plain": [
       "<AxesSubplot:xlabel='y_pred_knn_diff'>"
      ]
     },
     "execution_count": 138,
     "metadata": {},
     "output_type": "execute_result"
    },
    {
     "data": {
      "image/png": "[encoded data removed]",
      "text/plain": [
       "<Figure size 432x288 with 1 Axes>"
      ]
     },
     "metadata": {
      "needs_background": "light"
     },
     "output_type": "display_data"
    }
   ],
   "source": [
    "sns.boxplot(data = pred_df , x = 'y_pred_knn_diff')"
   ]
  },
  {
   "cell_type": "code",
   "execution_count": 139,
   "id": "7962da07",
   "metadata": {},
   "outputs": [
    {
     "data": {
      "text/plain": [
       "7429.975000000006"
      ]
     },
     "execution_count": 139,
     "metadata": {},
     "output_type": "execute_result"
    }
   ],
   "source": [
    "pred_df['y_pred_knn_diff'].median()"
   ]
  },
  {
   "cell_type": "code",
   "execution_count": 140,
   "id": "1194e247",
   "metadata": {},
   "outputs": [
    {
     "data": {
      "text/plain": [
       "0.25   -14226.350\n",
       "0.75    33714.525\n",
       "Name: y_pred_knn_diff, dtype: float64"
      ]
     },
     "execution_count": 140,
     "metadata": {},
     "output_type": "execute_result"
    }
   ],
   "source": [
    "pred_df['y_pred_knn_diff'].quantile([0.25 , 0.75])"
   ]
  },
  {
   "cell_type": "markdown",
   "id": "0bfca3b3",
   "metadata": {},
   "source": [
    "### SVM"
   ]
  },
  {
   "cell_type": "code",
   "execution_count": 141,
   "id": "6dcbc788",
   "metadata": {},
   "outputs": [
    {
     "name": "stderr",
     "output_type": "stream",
     "text": [
      "C:\\Users\\salaz\\anaconda3\\lib\\site-packages\\sklearn\\model_selection\\_search.py:292: UserWarning: The total space of parameters 36 is smaller than n_iter=150. Running 36 iterations. For exhaustive searches, use GridSearchCV.\n",
      "  warnings.warn(\n"
     ]
    },
    {
     "data": {
      "text/plain": [
       "RandomizedSearchCV(cv=5, estimator=SVR(), n_iter=150,\n",
       "                   param_distributions={'C': array([0.1, 0.2, 0.3, 0.4, 0.5, 0.6, 0.7, 0.8, 0.9]),\n",
       "                                        'degree': array([1, 2, 3, 4]),\n",
       "                                        'gamma': ['auto']},\n",
       "                   scoring='neg_mean_squared_error')"
      ]
     },
     "execution_count": 141,
     "metadata": {},
     "output_type": "execute_result"
    }
   ],
   "source": [
    "from sklearn.svm import SVR\n",
    "\n",
    "param_dist = {\n",
    "    'degree': np.arange(1, 5 , 1),\n",
    "    'gamma': ['auto'],\n",
    "    'C': np.arange(0.1,1, 0.1)\n",
    "}\n",
    "\n",
    "svr = SVR()\n",
    "\n",
    "# Create and fit the random search object\n",
    "reg_svr = RandomizedSearchCV(svr, param_distributions = param_dist, cv = 5 , scoring= 'neg_mean_squared_error' , n_iter = 150)\n",
    "\n",
    "reg_svr.fit(X_train , y_train)\n"
   ]
  },
  {
   "cell_type": "code",
   "execution_count": 142,
   "id": "9d070c03",
   "metadata": {},
   "outputs": [
    {
     "data": {
      "text/plain": [
       "{'gamma': 'auto', 'degree': 1, 'C': 0.9}"
      ]
     },
     "execution_count": 142,
     "metadata": {},
     "output_type": "execute_result"
    }
   ],
   "source": [
    "reg_svr.best_params_"
   ]
  },
  {
   "cell_type": "code",
   "execution_count": 143,
   "id": "79750be0",
   "metadata": {},
   "outputs": [
    {
     "data": {
      "text/plain": [
       "42998.64234863036"
      ]
     },
     "execution_count": 143,
     "metadata": {},
     "output_type": "execute_result"
    }
   ],
   "source": [
    "svr = SVR(**reg_svr.best_params_)\n",
    "\n",
    "svr.fit(X_train,y_train)\n",
    "\n",
    "svr_predictions = svr.predict(X_test)\n",
    "\n",
    "# RMSE\n",
    "svr_RMSE = np.sqrt(mean_squared_error(y_true = y_test , y_pred = svr_predictions))\n",
    "svr_RMSE"
   ]
  },
  {
   "cell_type": "code",
   "execution_count": 144,
   "id": "a76262d4",
   "metadata": {},
   "outputs": [],
   "source": [
    "pred_df['y_pred_svr'] = svr_predictions"
   ]
  },
  {
   "cell_type": "code",
   "execution_count": 145,
   "id": "d91d42a6",
   "metadata": {},
   "outputs": [
    {
     "data": {
      "text/plain": [
       "<AxesSubplot:xlabel='y_pred_svr_diff'>"
      ]
     },
     "execution_count": 145,
     "metadata": {},
     "output_type": "execute_result"
    },
    {
     "data": {
      "image/png": "[encoded data removed]",
      "text/plain": [
       "<Figure size 432x288 with 1 Axes>"
      ]
     },
     "metadata": {
      "needs_background": "light"
     },
     "output_type": "display_data"
    }
   ],
   "source": [
    "pred_df['y_pred_svr_diff'] = pred_df['y_pred_svr'] - pred_df['y_test']\n",
    "sns.boxplot(data = pred_df , x = 'y_pred_svr_diff')"
   ]
  },
  {
   "cell_type": "code",
   "execution_count": 146,
   "id": "508317b8",
   "metadata": {},
   "outputs": [
    {
     "data": {
      "text/plain": [
       "14282.378247449029"
      ]
     },
     "execution_count": 146,
     "metadata": {},
     "output_type": "execute_result"
    }
   ],
   "source": [
    "pred_df.y_pred_svr_diff.median()"
   ]
  },
  {
   "cell_type": "code",
   "execution_count": 147,
   "id": "ce5121ed",
   "metadata": {},
   "outputs": [
    {
     "data": {
      "text/plain": [
       "0.25   -25498.443706\n",
       "0.75    31208.116816\n",
       "Name: y_pred_svr_diff, dtype: float64"
      ]
     },
     "execution_count": 147,
     "metadata": {},
     "output_type": "execute_result"
    }
   ],
   "source": [
    "pred_df.y_pred_svr_diff.quantile([0.25 , 0.75])"
   ]
  },
  {
   "cell_type": "markdown",
   "id": "20a926b9",
   "metadata": {},
   "source": [
    "### KNN RF Voting\n",
    "\n",
    "One way that I might be able to improve model is by averaging the predictions of the KNN model and the Random Forest. The goal is to balance the inaccurate predictions of one model with a more accurate prediction from another.\n",
    "\n",
    "I will use a Voting Regressor to accomplish this."
   ]
  },
  {
   "cell_type": "code",
   "execution_count": 166,
   "id": "502c44eb",
   "metadata": {},
   "outputs": [
    {
     "name": "stdout",
     "output_type": "stream",
     "text": [
      "{'rf__n_estimators': 150, 'rf__min_samples_split': 4, 'rf__min_samples_leaf': 16, 'rf__max_features': 'auto', 'rf__max_depth': 15, 'rf__criterion': 'squared_error', 'knn__n_neighbors': 20, 'knn__algorithm': 'ball_tree'}\n"
     ]
    }
   ],
   "source": [
    "from sklearn.ensemble import VotingRegressor\n",
    "\n",
    "\n",
    "knn = KNeighborsRegressor()\n",
    "random_forest = RandomForestRegressor()\n",
    "\n",
    "\n",
    "vr = VotingRegressor([('knn', knn), ('rf', random_forest)])\n",
    "\n",
    "param_grid = {\n",
    "    'rf__n_estimators' : np.arange(50, 500 , 50),\n",
    "    'rf__max_depth' : np.arange(5, 25 , 5),\n",
    "    'rf__min_samples_split' : np.arange(2 , 20 , 2),\n",
    "    'rf__min_samples_leaf' : np.arange(2, 20 , 2),\n",
    "    'rf__max_features' : ['auto' , 'sqrt' , 'log2'],\n",
    "    'rf__criterion' : ['squared_error', 'absolute_error', 'poisson'],\n",
    "    'knn__n_neighbors': np.arange(5,25,5),\n",
    "    'knn__algorithm': ['auto', 'ball_tree', 'kd_tree', 'brute']\n",
    "}\n",
    "\n",
    "rs_vr = RandomizedSearchCV(vr , param_distributions = param_grid , cv = 5 , n_iter = 250 , scoring= 'neg_mean_squared_error')\n",
    "\n",
    "rs_vr.fit(X_train , y_train)\n",
    "\n",
    "print(rs_vr.best_params_)\n",
    "vr_predictions = rs_vr.predict(X_test)"
   ]
  },
  {
   "cell_type": "code",
   "execution_count": 167,
   "id": "276f00fb",
   "metadata": {},
   "outputs": [
    {
     "data": {
      "text/plain": [
       "38129.288345089124"
      ]
     },
     "execution_count": 167,
     "metadata": {},
     "output_type": "execute_result"
    }
   ],
   "source": [
    "# RMSE\n",
    "vr_RMSE  = np.sqrt(mean_squared_error(y_true = y_test , y_pred = vr_predictions))\n",
    "vr_RMSE"
   ]
  },
  {
   "cell_type": "code",
   "execution_count": 168,
   "id": "83c0baff",
   "metadata": {},
   "outputs": [],
   "source": [
    "pred_df['y_pred_vr'] = vr_predictions\n",
    "pred_df['y_pred_vr_diff'] = pred_df['y_pred_vr'] - pred_df['y_test']"
   ]
  },
  {
   "cell_type": "code",
   "execution_count": 169,
   "id": "df8c10c4",
   "metadata": {},
   "outputs": [
    {
     "data": {
      "text/plain": [
       "6776.414771405194"
      ]
     },
     "execution_count": 169,
     "metadata": {},
     "output_type": "execute_result"
    }
   ],
   "source": [
    "pred_df.y_pred_vr_diff.median()"
   ]
  },
  {
   "cell_type": "code",
   "execution_count": 170,
   "id": "3f40addd",
   "metadata": {},
   "outputs": [
    {
     "data": {
      "text/plain": [
       "0.25   -14847.421658\n",
       "0.75    35046.185054\n",
       "Name: y_pred_vr_diff, dtype: float64"
      ]
     },
     "execution_count": 170,
     "metadata": {},
     "output_type": "execute_result"
    }
   ],
   "source": [
    "pred_df.y_pred_vr_diff.quantile([0.25 , 0.75])"
   ]
  },
  {
   "cell_type": "markdown",
   "id": "4daf4c2b",
   "metadata": {},
   "source": [
    "### Model Comparison"
   ]
  },
  {
   "cell_type": "code",
   "execution_count": 172,
   "id": "e4021ece",
   "metadata": {},
   "outputs": [],
   "source": [
    "diff_columns = ['y_pred_rf_diff' , 'y_pred_knn_diff' , 'y_pred_svr_diff' , 'y_pred_vr_diff']\n",
    "models = ['Random Forest' , 'KNN' , 'SVR' , 'Voting Regressor']\n",
    "RMSE = [random_forest_RMSE , knn_RMSE , svr_RMSE , vr_RMSE]\n",
    "\n",
    "percentile_25 = []\n",
    "percentile_75 = []\n",
    "medians = []\n",
    "\n",
    "for column in diff_columns:\n",
    "    medians.append(pred_df[column].median())\n",
    "    percentile_25.append(pred_df[column].quantile(0.25))\n",
    "    percentile_75.append(pred_df[column].quantile(0.75))\n"
   ]
  },
  {
   "cell_type": "code",
   "execution_count": 173,
   "id": "b36ed3a4",
   "metadata": {},
   "outputs": [],
   "source": [
    "evaluation_df = pd.DataFrame({\n",
    "    'model':models,\n",
    "    'RMSE' : RMSE,\n",
    "    'Median difference': medians,\n",
    "    'percentile_25_difference': percentile_25,\n",
    "    'percentile_75_difference': percentile_75\n",
    "    \n",
    "})\n",
    "evaluation_df.set_index('model', inplace = True)"
   ]
  },
  {
   "cell_type": "code",
   "execution_count": 174,
   "id": "bc130619",
   "metadata": {},
   "outputs": [
    {
     "data": {
      "text/html": [
       "<div>\n",
       "<style scoped>\n",
       "    .dataframe tbody tr th:only-of-type {\n",
       "        vertical-align: middle;\n",
       "    }\n",
       "\n",
       "    .dataframe tbody tr th {\n",
       "        vertical-align: top;\n",
       "    }\n",
       "\n",
       "    .dataframe thead th {\n",
       "        text-align: right;\n",
       "    }\n",
       "</style>\n",
       "<table border=\"1\" class=\"dataframe\">\n",
       "  <thead>\n",
       "    <tr style=\"text-align: right;\">\n",
       "      <th></th>\n",
       "      <th>RMSE</th>\n",
       "      <th>Median difference</th>\n",
       "      <th>percentile_25_difference</th>\n",
       "      <th>percentile_75_difference</th>\n",
       "    </tr>\n",
       "    <tr>\n",
       "      <th>model</th>\n",
       "      <th></th>\n",
       "      <th></th>\n",
       "      <th></th>\n",
       "      <th></th>\n",
       "    </tr>\n",
       "  </thead>\n",
       "  <tbody>\n",
       "    <tr>\n",
       "      <th>Random Forest</th>\n",
       "      <td>38298.780440</td>\n",
       "      <td>8444.522833</td>\n",
       "      <td>-15092.842924</td>\n",
       "      <td>30949.239606</td>\n",
       "    </tr>\n",
       "    <tr>\n",
       "      <th>KNN</th>\n",
       "      <td>39676.685200</td>\n",
       "      <td>7429.975000</td>\n",
       "      <td>-14226.350000</td>\n",
       "      <td>33714.525000</td>\n",
       "    </tr>\n",
       "    <tr>\n",
       "      <th>SVR</th>\n",
       "      <td>42998.642349</td>\n",
       "      <td>14282.378247</td>\n",
       "      <td>-25498.443706</td>\n",
       "      <td>31208.116816</td>\n",
       "    </tr>\n",
       "    <tr>\n",
       "      <th>Voting Regressor</th>\n",
       "      <td>38129.288345</td>\n",
       "      <td>6776.414771</td>\n",
       "      <td>-14847.421658</td>\n",
       "      <td>35046.185054</td>\n",
       "    </tr>\n",
       "  </tbody>\n",
       "</table>\n",
       "</div>"
      ],
      "text/plain": [
       "                          RMSE  Median difference  percentile_25_difference  \\\n",
       "model                                                                         \n",
       "Random Forest     38298.780440        8444.522833             -15092.842924   \n",
       "KNN               39676.685200        7429.975000             -14226.350000   \n",
       "SVR               42998.642349       14282.378247             -25498.443706   \n",
       "Voting Regressor  38129.288345        6776.414771             -14847.421658   \n",
       "\n",
       "                  percentile_75_difference  \n",
       "model                                       \n",
       "Random Forest                 30949.239606  \n",
       "KNN                           33714.525000  \n",
       "SVR                           31208.116816  \n",
       "Voting Regressor              35046.185054  "
      ]
     },
     "execution_count": 174,
     "metadata": {},
     "output_type": "execute_result"
    }
   ],
   "source": [
    "evaluation_df"
   ]
  },
  {
   "cell_type": "code",
   "execution_count": 175,
   "id": "a66211d4",
   "metadata": {},
   "outputs": [
    {
     "data": {
      "text/plain": [
       "<AxesSubplot:>"
      ]
     },
     "execution_count": 175,
     "metadata": {},
     "output_type": "execute_result"
    },
    {
     "data": {
      "image/png": "[encoded data removed]",
      "text/plain": [
       "<Figure size 432x288 with 1 Axes>"
      ]
     },
     "metadata": {
      "needs_background": "light"
     },
     "output_type": "display_data"
    }
   ],
   "source": [
    "sns.boxplot(data = pred_df[['y_pred_rf_diff' , 'y_pred_knn_diff' , 'y_pred_svr_diff' , 'y_pred_vr_diff']])"
   ]
  },
  {
   "cell_type": "code",
   "execution_count": 189,
   "id": "944dbc94",
   "metadata": {},
   "outputs": [
    {
     "data": {
      "text/plain": [
       "<matplotlib.legend.Legend at 0x2cc0eee08e0>"
      ]
     },
     "execution_count": 189,
     "metadata": {},
     "output_type": "execute_result"
    },
    {
     "data": {
      "image/png": "[encoded data removed]",
      "text/plain": [
       "<Figure size 432x288 with 1 Axes>"
      ]
     },
     "metadata": {
      "needs_background": "light"
     },
     "output_type": "display_data"
    }
   ],
   "source": [
    "sns.scatterplot(x = 'y_test' , y = 'y_pred_vr' , data = pred_df)\n",
    "x = np.linspace(50000 , 250000 , 10)\n",
    "y = x = np.linspace(50000 , 250000 , 10)\n",
    "plt.plot(x , y , color = 'grey' , linestyle='dashed' , label = 'perfect prediction')\n",
    "plt.title('Voting Regressor Predictions vs Actual Values' , size = 13)\n",
    "plt.legend()"
   ]
  },
  {
   "cell_type": "markdown",
   "id": "541416ee",
   "metadata": {},
   "source": [
    "The voting regressor using the Random Forest and KNN models provides the best results in my opinion. The RMSE leaves alot to be desired but the dataset is relatively small and salaries vary based on a number of factors that were not provided (other compensation, city, industry of the company, hours worked,  etc.)\n",
    "\n",
    "We can see that as the true salaries got larger (some reaching over 200,000 dollars) the model continued to predict salaries lower than 175,000 and didn't scale well with the higher salaraies.\n",
    "\n",
    "The random forest model provided some insight into which variables were the most helpful when predicting salary. The continent of the employee/company country, experience level and job title all played an important role while Remote status, Employment Type, and Company Size were not as useful for the model.\n"
   ]
  },
  {
   "cell_type": "code",
   "execution_count": null,
   "id": "c3fc3a5b",
   "metadata": {},
   "outputs": [],
   "source": []
  }
 ],
 "metadata": {
  "kernelspec": {
   "display_name": "Python 3 (ipykernel)",
   "language": "python",
   "name": "python3"
  },
  "language_info": {
   "codemirror_mode": {
    "name": "ipython",
    "version": 3
   },
   "file_extension": ".py",
   "mimetype": "text/x-python",
   "name": "python",
   "nbconvert_exporter": "python",
   "pygments_lexer": "ipython3",
   "version": "3.8.8"
  }
 },
 "nbformat": 4,
 "nbformat_minor": 5
}
